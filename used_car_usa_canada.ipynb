{
 "cells": [
  {
   "cell_type": "markdown",
   "metadata": {
    "id": "6TocyMOg5nY_"
   },
   "source": [
    "<H2> Comparing cars in USA & Canada </H2>"
   ]
  },
  {
   "cell_type": "code",
   "execution_count": 290,
   "metadata": {
    "id": "9LnB5dul5nZG"
   },
   "outputs": [],
   "source": [
    "import pandas as pd\n",
    "import matplotlib.pyplot as plt\n",
    "df = pd.read_csv('USA_cars_datasets.csv',header=0)\n",
    "df = df.apply(lambda x: x.str.strip() if x.dtype == \"object\" else x)"
   ]
  },
  {
   "cell_type": "markdown",
   "metadata": {
    "id": "36Xm8IIZ5nZG"
   },
   "source": [
    "<b>Q1. In the US, what is the average price per car in each state? Order this in descending order.<b>"
   ]
  },
  {
   "cell_type": "code",
   "execution_count": 328,
   "metadata": {},
   "outputs": [
    {
     "data": {
      "text/html": [
       "<div>\n",
       "<style scoped>\n",
       "    .dataframe tbody tr th:only-of-type {\n",
       "        vertical-align: middle;\n",
       "    }\n",
       "\n",
       "    .dataframe tbody tr th {\n",
       "        vertical-align: top;\n",
       "    }\n",
       "\n",
       "    .dataframe thead th {\n",
       "        text-align: right;\n",
       "    }\n",
       "</style>\n",
       "<table border=\"1\" class=\"dataframe\">\n",
       "  <thead>\n",
       "    <tr style=\"text-align: right;\">\n",
       "      <th></th>\n",
       "      <th>price</th>\n",
       "      <th>brand</th>\n",
       "      <th>model</th>\n",
       "      <th>year</th>\n",
       "      <th>title_status</th>\n",
       "      <th>mileage</th>\n",
       "      <th>color</th>\n",
       "      <th>state</th>\n",
       "      <th>country</th>\n",
       "    </tr>\n",
       "  </thead>\n",
       "  <tbody>\n",
       "    <tr>\n",
       "      <th>0</th>\n",
       "      <td>6300.0</td>\n",
       "      <td>toyota</td>\n",
       "      <td>cruiser</td>\n",
       "      <td>2008</td>\n",
       "      <td>clean vehicle</td>\n",
       "      <td>274117</td>\n",
       "      <td>black</td>\n",
       "      <td>new jersey</td>\n",
       "      <td>usa</td>\n",
       "    </tr>\n",
       "    <tr>\n",
       "      <th>1</th>\n",
       "      <td>2899.0</td>\n",
       "      <td>ford</td>\n",
       "      <td>se</td>\n",
       "      <td>2011</td>\n",
       "      <td>clean vehicle</td>\n",
       "      <td>190552</td>\n",
       "      <td>silver</td>\n",
       "      <td>tennessee</td>\n",
       "      <td>usa</td>\n",
       "    </tr>\n",
       "    <tr>\n",
       "      <th>2</th>\n",
       "      <td>5350.0</td>\n",
       "      <td>dodge</td>\n",
       "      <td>mpv</td>\n",
       "      <td>2018</td>\n",
       "      <td>clean vehicle</td>\n",
       "      <td>39590</td>\n",
       "      <td>silver</td>\n",
       "      <td>georgia</td>\n",
       "      <td>usa</td>\n",
       "    </tr>\n",
       "    <tr>\n",
       "      <th>3</th>\n",
       "      <td>25000.0</td>\n",
       "      <td>ford</td>\n",
       "      <td>door</td>\n",
       "      <td>2014</td>\n",
       "      <td>clean vehicle</td>\n",
       "      <td>64146</td>\n",
       "      <td>blue</td>\n",
       "      <td>virginia</td>\n",
       "      <td>usa</td>\n",
       "    </tr>\n",
       "    <tr>\n",
       "      <th>4</th>\n",
       "      <td>27700.0</td>\n",
       "      <td>chevrolet</td>\n",
       "      <td>1500</td>\n",
       "      <td>2018</td>\n",
       "      <td>clean vehicle</td>\n",
       "      <td>6654</td>\n",
       "      <td>red</td>\n",
       "      <td>florida</td>\n",
       "      <td>usa</td>\n",
       "    </tr>\n",
       "    <tr>\n",
       "      <th>...</th>\n",
       "      <td>...</td>\n",
       "      <td>...</td>\n",
       "      <td>...</td>\n",
       "      <td>...</td>\n",
       "      <td>...</td>\n",
       "      <td>...</td>\n",
       "      <td>...</td>\n",
       "      <td>...</td>\n",
       "      <td>...</td>\n",
       "    </tr>\n",
       "    <tr>\n",
       "      <th>2494</th>\n",
       "      <td>7800.0</td>\n",
       "      <td>nissan</td>\n",
       "      <td>versa</td>\n",
       "      <td>2019</td>\n",
       "      <td>clean vehicle</td>\n",
       "      <td>23609</td>\n",
       "      <td>red</td>\n",
       "      <td>california</td>\n",
       "      <td>usa</td>\n",
       "    </tr>\n",
       "    <tr>\n",
       "      <th>2495</th>\n",
       "      <td>9200.0</td>\n",
       "      <td>nissan</td>\n",
       "      <td>versa</td>\n",
       "      <td>2018</td>\n",
       "      <td>clean vehicle</td>\n",
       "      <td>34553</td>\n",
       "      <td>silver</td>\n",
       "      <td>florida</td>\n",
       "      <td>usa</td>\n",
       "    </tr>\n",
       "    <tr>\n",
       "      <th>2496</th>\n",
       "      <td>9200.0</td>\n",
       "      <td>nissan</td>\n",
       "      <td>versa</td>\n",
       "      <td>2018</td>\n",
       "      <td>clean vehicle</td>\n",
       "      <td>31594</td>\n",
       "      <td>silver</td>\n",
       "      <td>florida</td>\n",
       "      <td>usa</td>\n",
       "    </tr>\n",
       "    <tr>\n",
       "      <th>2497</th>\n",
       "      <td>9200.0</td>\n",
       "      <td>nissan</td>\n",
       "      <td>versa</td>\n",
       "      <td>2018</td>\n",
       "      <td>clean vehicle</td>\n",
       "      <td>32557</td>\n",
       "      <td>black</td>\n",
       "      <td>florida</td>\n",
       "      <td>usa</td>\n",
       "    </tr>\n",
       "    <tr>\n",
       "      <th>2498</th>\n",
       "      <td>9200.0</td>\n",
       "      <td>nissan</td>\n",
       "      <td>versa</td>\n",
       "      <td>2018</td>\n",
       "      <td>clean vehicle</td>\n",
       "      <td>31371</td>\n",
       "      <td>silver</td>\n",
       "      <td>florida</td>\n",
       "      <td>usa</td>\n",
       "    </tr>\n",
       "  </tbody>\n",
       "</table>\n",
       "<p>2492 rows × 9 columns</p>\n",
       "</div>"
      ],
      "text/plain": [
       "        price      brand    model  year   title_status  mileage   color  \\\n",
       "0      6300.0     toyota  cruiser  2008  clean vehicle   274117   black   \n",
       "1      2899.0       ford       se  2011  clean vehicle   190552  silver   \n",
       "2      5350.0      dodge      mpv  2018  clean vehicle    39590  silver   \n",
       "3     25000.0       ford     door  2014  clean vehicle    64146    blue   \n",
       "4     27700.0  chevrolet     1500  2018  clean vehicle     6654     red   \n",
       "...       ...        ...      ...   ...            ...      ...     ...   \n",
       "2494   7800.0     nissan    versa  2019  clean vehicle    23609     red   \n",
       "2495   9200.0     nissan    versa  2018  clean vehicle    34553  silver   \n",
       "2496   9200.0     nissan    versa  2018  clean vehicle    31594  silver   \n",
       "2497   9200.0     nissan    versa  2018  clean vehicle    32557   black   \n",
       "2498   9200.0     nissan    versa  2018  clean vehicle    31371  silver   \n",
       "\n",
       "           state country  \n",
       "0     new jersey     usa  \n",
       "1      tennessee     usa  \n",
       "2        georgia     usa  \n",
       "3       virginia     usa  \n",
       "4        florida     usa  \n",
       "...          ...     ...  \n",
       "2494  california     usa  \n",
       "2495     florida     usa  \n",
       "2496     florida     usa  \n",
       "2497     florida     usa  \n",
       "2498     florida     usa  \n",
       "\n",
       "[2492 rows x 9 columns]"
      ]
     },
     "execution_count": 328,
     "metadata": {},
     "output_type": "execute_result"
    }
   ],
   "source": [
    "USA = df[df.country=='usa']\n",
    "USA"
   ]
  },
  {
   "cell_type": "code",
   "execution_count": 322,
   "metadata": {},
   "outputs": [
    {
     "data": {
      "text/html": [
       "<div>\n",
       "<style scoped>\n",
       "    .dataframe tbody tr th:only-of-type {\n",
       "        vertical-align: middle;\n",
       "    }\n",
       "\n",
       "    .dataframe tbody tr th {\n",
       "        vertical-align: top;\n",
       "    }\n",
       "\n",
       "    .dataframe thead th {\n",
       "        text-align: right;\n",
       "    }\n",
       "</style>\n",
       "<table border=\"1\" class=\"dataframe\">\n",
       "  <thead>\n",
       "    <tr style=\"text-align: right;\">\n",
       "      <th></th>\n",
       "      <th>price</th>\n",
       "    </tr>\n",
       "    <tr>\n",
       "      <th>state</th>\n",
       "      <th></th>\n",
       "    </tr>\n",
       "  </thead>\n",
       "  <tbody>\n",
       "    <tr>\n",
       "      <th>kentucky</th>\n",
       "      <td>44969.444444</td>\n",
       "    </tr>\n",
       "    <tr>\n",
       "      <th>new mexico</th>\n",
       "      <td>27375.000000</td>\n",
       "    </tr>\n",
       "    <tr>\n",
       "      <th>washington</th>\n",
       "      <td>26771.428571</td>\n",
       "    </tr>\n",
       "    <tr>\n",
       "      <th>illinois</th>\n",
       "      <td>26715.707965</td>\n",
       "    </tr>\n",
       "    <tr>\n",
       "      <th>michigan</th>\n",
       "      <td>23899.822485</td>\n",
       "    </tr>\n",
       "    <tr>\n",
       "      <th>alabama</th>\n",
       "      <td>23872.058824</td>\n",
       "    </tr>\n",
       "    <tr>\n",
       "      <th>nevada</th>\n",
       "      <td>23653.529412</td>\n",
       "    </tr>\n",
       "    <tr>\n",
       "      <th>pennsylvania</th>\n",
       "      <td>22810.210702</td>\n",
       "    </tr>\n",
       "    <tr>\n",
       "      <th>indiana</th>\n",
       "      <td>21391.428571</td>\n",
       "    </tr>\n",
       "    <tr>\n",
       "      <th>nebraska</th>\n",
       "      <td>21350.000000</td>\n",
       "    </tr>\n",
       "    <tr>\n",
       "      <th>mississippi</th>\n",
       "      <td>21148.333333</td>\n",
       "    </tr>\n",
       "    <tr>\n",
       "      <th>wisconsin</th>\n",
       "      <td>21103.191489</td>\n",
       "    </tr>\n",
       "    <tr>\n",
       "      <th>virginia</th>\n",
       "      <td>20041.000000</td>\n",
       "    </tr>\n",
       "    <tr>\n",
       "      <th>oklahoma</th>\n",
       "      <td>19839.084507</td>\n",
       "    </tr>\n",
       "    <tr>\n",
       "      <th>minnesota</th>\n",
       "      <td>18207.352941</td>\n",
       "    </tr>\n",
       "    <tr>\n",
       "      <th>new york</th>\n",
       "      <td>17850.706897</td>\n",
       "    </tr>\n",
       "    <tr>\n",
       "      <th>california</th>\n",
       "      <td>17836.710526</td>\n",
       "    </tr>\n",
       "    <tr>\n",
       "      <th>rhode island</th>\n",
       "      <td>17808.000000</td>\n",
       "    </tr>\n",
       "    <tr>\n",
       "      <th>massachusetts</th>\n",
       "      <td>17650.555556</td>\n",
       "    </tr>\n",
       "    <tr>\n",
       "      <th>ohio</th>\n",
       "      <td>17460.967742</td>\n",
       "    </tr>\n",
       "    <tr>\n",
       "      <th>south carolina</th>\n",
       "      <td>17270.703125</td>\n",
       "    </tr>\n",
       "    <tr>\n",
       "      <th>new hampshire</th>\n",
       "      <td>16757.500000</td>\n",
       "    </tr>\n",
       "    <tr>\n",
       "      <th>north carolina</th>\n",
       "      <td>16485.273973</td>\n",
       "    </tr>\n",
       "    <tr>\n",
       "      <th>tennessee</th>\n",
       "      <td>16259.576923</td>\n",
       "    </tr>\n",
       "    <tr>\n",
       "      <th>new jersey</th>\n",
       "      <td>16209.712644</td>\n",
       "    </tr>\n",
       "    <tr>\n",
       "      <th>missouri</th>\n",
       "      <td>16192.391304</td>\n",
       "    </tr>\n",
       "    <tr>\n",
       "      <th>louisiana</th>\n",
       "      <td>16181.181818</td>\n",
       "    </tr>\n",
       "    <tr>\n",
       "      <th>georgia</th>\n",
       "      <td>16050.313725</td>\n",
       "    </tr>\n",
       "    <tr>\n",
       "      <th>kansas</th>\n",
       "      <td>15500.000000</td>\n",
       "    </tr>\n",
       "    <tr>\n",
       "      <th>west virginia</th>\n",
       "      <td>15447.619048</td>\n",
       "    </tr>\n",
       "    <tr>\n",
       "      <th>florida</th>\n",
       "      <td>15075.630081</td>\n",
       "    </tr>\n",
       "    <tr>\n",
       "      <th>connecticut</th>\n",
       "      <td>14713.600000</td>\n",
       "    </tr>\n",
       "    <tr>\n",
       "      <th>arizona</th>\n",
       "      <td>14709.090909</td>\n",
       "    </tr>\n",
       "    <tr>\n",
       "      <th>texas</th>\n",
       "      <td>13607.299065</td>\n",
       "    </tr>\n",
       "    <tr>\n",
       "      <th>oregon</th>\n",
       "      <td>13109.259259</td>\n",
       "    </tr>\n",
       "    <tr>\n",
       "      <th>colorado</th>\n",
       "      <td>12676.190476</td>\n",
       "    </tr>\n",
       "    <tr>\n",
       "      <th>idaho</th>\n",
       "      <td>11500.000000</td>\n",
       "    </tr>\n",
       "    <tr>\n",
       "      <th>vermont</th>\n",
       "      <td>7498.000000</td>\n",
       "    </tr>\n",
       "    <tr>\n",
       "      <th>utah</th>\n",
       "      <td>4875.000000</td>\n",
       "    </tr>\n",
       "    <tr>\n",
       "      <th>arkansas</th>\n",
       "      <td>3771.666667</td>\n",
       "    </tr>\n",
       "    <tr>\n",
       "      <th>montana</th>\n",
       "      <td>2825.000000</td>\n",
       "    </tr>\n",
       "    <tr>\n",
       "      <th>maryland</th>\n",
       "      <td>662.500000</td>\n",
       "    </tr>\n",
       "    <tr>\n",
       "      <th>wyoming</th>\n",
       "      <td>0.000000</td>\n",
       "    </tr>\n",
       "  </tbody>\n",
       "</table>\n",
       "</div>"
      ],
      "text/plain": [
       "                       price\n",
       "state                       \n",
       "kentucky        44969.444444\n",
       "new mexico      27375.000000\n",
       "washington      26771.428571\n",
       "illinois        26715.707965\n",
       "michigan        23899.822485\n",
       "alabama         23872.058824\n",
       "nevada          23653.529412\n",
       "pennsylvania    22810.210702\n",
       "indiana         21391.428571\n",
       "nebraska        21350.000000\n",
       "mississippi     21148.333333\n",
       "wisconsin       21103.191489\n",
       "virginia        20041.000000\n",
       "oklahoma        19839.084507\n",
       "minnesota       18207.352941\n",
       "new york        17850.706897\n",
       "california      17836.710526\n",
       "rhode island    17808.000000\n",
       "massachusetts   17650.555556\n",
       "ohio            17460.967742\n",
       "south carolina  17270.703125\n",
       "new hampshire   16757.500000\n",
       "north carolina  16485.273973\n",
       "tennessee       16259.576923\n",
       "new jersey      16209.712644\n",
       "missouri        16192.391304\n",
       "louisiana       16181.181818\n",
       "georgia         16050.313725\n",
       "kansas          15500.000000\n",
       "west virginia   15447.619048\n",
       "florida         15075.630081\n",
       "connecticut     14713.600000\n",
       "arizona         14709.090909\n",
       "texas           13607.299065\n",
       "oregon          13109.259259\n",
       "colorado        12676.190476\n",
       "idaho           11500.000000\n",
       "vermont          7498.000000\n",
       "utah             4875.000000\n",
       "arkansas         3771.666667\n",
       "montana          2825.000000\n",
       "maryland          662.500000\n",
       "wyoming             0.000000"
      ]
     },
     "execution_count": 322,
     "metadata": {},
     "output_type": "execute_result"
    }
   ],
   "source": [
    "usa=pd.DataFrame(df[df.country=='usa'].groupby(by='state').price.mean().sort_values(ascending=False))\n",
    "usa"
   ]
  },
  {
   "cell_type": "markdown",
   "metadata": {
    "id": "e5zGHQvM5nZH"
   },
   "source": [
    "<b> Q2. What is the average price per car brand within the US? Plot this out in a Bar Plot in descending order.</b>"
   ]
  },
  {
   "cell_type": "code",
   "execution_count": 330,
   "metadata": {
    "id": "rtP_AaVl5nZH"
   },
   "outputs": [
    {
     "data": {
      "text/plain": [
       "<Axes: xlabel='brand'>"
      ]
     },
     "execution_count": 330,
     "metadata": {},
     "output_type": "execute_result"
    },
    {
     "data": {
      "image/png": "[encoded data removed]",
      "text/plain": [
       "<Figure size 640x480 with 1 Axes>"
      ]
     },
     "metadata": {},
     "output_type": "display_data"
    }
   ],
   "source": [
    "usa_brand=pd.DataFrame(USA.groupby(by='brand').price.mean().sort_values(ascending=False))\n",
    "usa_brand.plot(kind='bar')"
   ]
  },
  {
   "cell_type": "markdown",
   "metadata": {
    "id": "mhmkUjjO5nZH"
   },
   "source": [
    "<b> Q3. In Canada, what is the most popular brand and color of the cars that are listed for sale? </b>"
   ]
  },
  {
   "cell_type": "code",
   "execution_count": 369,
   "metadata": {
    "id": "ONAOJLJH5nZH"
   },
   "outputs": [
    {
     "data": {
      "text/plain": [
       "('dodge', 'white')"
      ]
     },
     "execution_count": 369,
     "metadata": {},
     "output_type": "execute_result"
    }
   ],
   "source": [
    "CANADA = df[df.country == 'canada']\n",
    "CANADA.brand.max(), CANADA.color.max()"
   ]
  },
  {
   "cell_type": "markdown",
   "metadata": {
    "id": "CoZNJ3bf5nZI"
   },
   "source": [
    "<b> Q4. Is there a substantial price difference between the average price for a clean car in the US vs. a clean car in Canada? If yes, what is the difference? </b> "
   ]
  },
  {
   "cell_type": "code",
   "execution_count": 383,
   "metadata": {
    "id": "MPU7XGPf5nZI"
   },
   "outputs": [
    {
     "data": {
      "text/plain": [
       "(19883, 30357, 10474)"
      ]
     },
     "execution_count": 383,
     "metadata": {},
     "output_type": "execute_result"
    }
   ],
   "source": [
    "u = df[(df.title_status== 'clean vehicle') & (df.country =='usa')].price.mean()\n",
    "c = df[(df.title_status== 'clean vehicle') & (df.country =='canada')].price.mean()\n",
    "round(u), round(c), round(c)-round(u)"
   ]
  },
  {
   "cell_type": "markdown",
   "metadata": {
    "id": "XjPA-MUH5nZI"
   },
   "source": [
    "<b> Q5. In the US / Canada - which car, brand and model is sold at the highest average price? </b>"
   ]
  },
  {
   "cell_type": "code",
   "execution_count": 377,
   "metadata": {
    "id": "27UM8jQP5nZI"
   },
   "outputs": [
    {
     "data": {
      "text/plain": [
       "brand          model   \n",
       "mercedes-benz  sl-class    84900.0\n",
       "Name: price, dtype: float64"
      ]
     },
     "execution_count": 377,
     "metadata": {},
     "output_type": "execute_result"
    }
   ],
   "source": [
    "USA.groupby(by=['brand','model']).price.mean().sort_values(ascending=False).head(1)"
   ]
  },
  {
   "cell_type": "code",
   "execution_count": 379,
   "metadata": {},
   "outputs": [
    {
     "data": {
      "text/plain": [
       "brand      model\n",
       "chevrolet  1500     33000.0\n",
       "Name: price, dtype: float64"
      ]
     },
     "execution_count": 379,
     "metadata": {},
     "output_type": "execute_result"
    }
   ],
   "source": [
    "CANADA.groupby(by=['brand','model']).price.mean().sort_values(ascending=False).head(1)"
   ]
  }
 ],
 "metadata": {
  "colab": {
   "name": "Practice_Python_Questions_Student.ipynb",
   "provenance": []
  },
  "kernelspec": {
   "display_name": "Python 3 (ipykernel)",
   "language": "python",
   "name": "python3"
  },
  "language_info": {
   "codemirror_mode": {
    "name": "ipython",
    "version": 3
   },
   "file_extension": ".py",
   "mimetype": "text/x-python",
   "name": "python",
   "nbconvert_exporter": "python",
   "pygments_lexer": "ipython3",
   "version": "3.12.3"
  }
 },
 "nbformat": 4,
 "nbformat_minor": 4
}
